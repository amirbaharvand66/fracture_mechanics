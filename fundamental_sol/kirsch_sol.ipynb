{
 "cells": [
  {
   "cell_type": "markdown",
   "id": "8c0944d0",
   "metadata": {},
   "source": [
    "# Kirsch Solution to An Infinite Plate with A Circular Hole (1898)"
   ]
  },
  {
   "cell_type": "markdown",
   "id": "775f64a8",
   "metadata": {},
   "source": [
    "<img src=\"fig/kirsch_sol/kirsch_sol.jpg\" width=500 />"
   ]
  },
  {
   "cell_type": "markdown",
   "id": "abfa6eea",
   "metadata": {},
   "source": [
    "## Boundary conditions at infinity \n",
    "\\begin{align}\n",
    "    & \\sigma_x = T \\\\\n",
    "    & \\sigma_y = 0 \\\\\n",
    "    & \\tau_{xy} = 0 \\\\\n",
    "\\end{align}"
   ]
  },
  {
   "cell_type": "markdown",
   "id": "eef72361",
   "metadata": {},
   "source": [
    "## Transfer the Cartesian stress to the polar\n",
    "\\begin{align}\n",
    "    & \\sigma_r = \\frac{\\sigma_x + \\sigma_y}{2} + \\frac{\\sigma_x - \\sigma_y}{2} \\cos 2\\theta + \\tau_{xy} \\sin 2\\theta \\\\\n",
    "    & \\sigma_{\\theta} = \\frac{\\sigma_x + \\sigma_y}{2} - \\frac{\\sigma_x - \\sigma_y}{2} \\cos 2\\theta - \\tau_{xy} \\sin 2\\theta \\\\\n",
    "    & \\tau_{r\\theta} = \\frac{\\sigma_y - \\sigma_x}{2} \\sin 2\\theta + \\tau_{xy} \\cos 2\\theta \\\\\n",
    "\\end{align}"
   ]
  },
  {
   "cell_type": "markdown",
   "id": "c1fb59e1",
   "metadata": {},
   "source": [
    "which gives (at infinity)\n",
    "\\begin{align}\n",
    "    & \\sigma_r(\\infty, \\theta) = \\frac{T}{2} + \\frac{T}{2} \\cos 2\\theta \\\\\n",
    "    & \\sigma_{\\theta}(\\infty, \\theta) = \\frac{T}{2} - \\frac{T}{2} \\cos 2\\theta \\\\\n",
    "    & \\tau_{r\\theta}(\\infty, \\theta) = -\\frac{T}{2} \\sin 2\\theta \\\\\n",
    "\\end{align}"
   ]
  },
  {
   "cell_type": "markdown",
   "id": "e3c494c3",
   "metadata": {},
   "source": [
    "## Solution Strategy\n",
    "<img src=\"fig/two_dimensional_problem_flowchart.svg\" width=700 />"
   ]
  },
  {
   "cell_type": "markdown",
   "id": "70f289f5",
   "metadata": {},
   "source": [
    "## Boundary condition at hole\n",
    "<img src=\"fig/stress_at_hole.jpg\" width=400 />\n",
    "\\begin{align}\n",
    "    & \\sigma_r(r, \\theta) = 0 \\\\\n",
    "    & \\tau_{r\\theta}(r, \\theta) = 0 \\\\\n",
    "\\end{align}"
   ]
  },
  {
   "cell_type": "markdown",
   "id": "bbaf62f5",
   "metadata": {},
   "source": [
    "## Michell Solution (Solution to Biharmonic Equation in Polar Coordinate)\n",
    "The Biharmonic equation in polar coordinate\n",
    "\n",
    "\\begin{equation}\n",
    "    \\triangledown^4 \\phi = \\left( \\frac{\\partial^2}{\\partial r^2} + \\frac{1}{r} \\frac{\\partial}{\\partial r} + \\frac{1}{r^2} \\frac{\\partial^2}{\\partial \\theta^2} \\right)^2 \\phi = 0\n",
    "\\end{equation}\n",
    "\n",
    "[Michell solution](https://londmathsoc.onlinelibrary.wiley.com/doi/abs/10.1112/plms/s1-31.1.100) (taken from [Sadd Elasticity book](https://www.elsevier.com/books/elasticity/sadd/978-0-12-815987-3))\n",
    "\\begin{align}\n",
    "    \\phi = & a_0 + a_1 \\ln r + a_2 r^2 + a_3 r^2 \\ln r +  \\\\\n",
    "    & (a_4 + a_5 \\ln r + a_6 r^2 + a_7 r^2 \\ln r) \\theta + \\\\\n",
    "    & (a_{11} r + a_{12} r \\ln r + \\frac{a_{13}}{r} + a_{14} r^3 + a_{15} r\\theta + a_{16} r\\theta \\ln r) \\cos\\theta + \\\\\n",
    "    & (b_{11} r + b_{12} r \\ln r + \\frac{b_{13}}{r} + b_{14} r^3 + b_{15} r\\theta + b_{16} r\\theta \\ln r) \\sin\\theta + \\\\\n",
    "    & \\sum_{n=2}^{\\infty} \\left( a_{n1}r^n + a_{n2}r^{2+n} + \\frac{a_{n3}}{r^n} + \\frac{a_{n4}}{r^{n-2}} \\right) \\cos n\\theta + \\\\\n",
    "    & \\sum_{n=2}^{\\infty} \\left( b_{n1}r^n + b_{n2}r^{2+n} + \\frac{b_{n3}}{r^n} + \\frac{b_{n4}}{r^{n-2}} \\right) \\sin n\\theta \\\\\n",
    "\\end{align}"
   ]
  },
  {
   "cell_type": "markdown",
   "id": "2cc4bd60",
   "metadata": {},
   "source": [
    "## Michell Solution Stress Components Table\n",
    "From [ Barber Elasticity book](https://www.springer.com/gp/book/9789048138081)\n",
    "\n",
    "| $$\\phi$$ | $$\\sigma_r$$ | $$\\sigma_{\\theta}$$ | $$\\tau_{r\\theta}$$\n",
    "| :---  | :---  | :--- | :---\n",
    "| $$r^2$$ | $$2$$ | $$2$$ | $$0$$ \n",
    "| $$r^2 \\ln r$$ | $$2\\ln r + 1$$ | $$2\\ln r + 3$$ | $$0$$\n",
    "| $$\\ln r$$ | $$\\frac{1}{r^2}$$ | $$-\\frac{1}{r^2}$$ | $$0$$ \n",
    "| $$\\theta$$ | $$0$$ | $$0$$ | $$1/r^2$$\n",
    "| $$r^3\\cos\\theta$$ | $$2r\\cos\\theta$$ | $$6r\\cos\\theta$$ | $$2r\\sin\\theta$$ \n",
    "| $$r\\theta\\sin\\theta$$ | $$\\frac{2}{r}\\cos\\theta$$ | $$0$$ | $$0$$ \n",
    "| $$r \\ln r \\cos\\theta$$ | $$\\frac{1}{r}\\cos\\theta$$ | $$\\frac{1}{r}\\cos\\theta$$ | $$\\frac{1}{r}\\sin\\theta$$ \n",
    "| $$\\frac{1}{r}\\cos\\theta$$ | $$-\\frac{2}{r^3}\\cos\\theta$$ | $$\\frac{2}{r^3}\\cos\\theta$$ | $$-\\frac{2}{r^3}\\sin\\theta$$\n",
    "| $$r^3\\sin\\theta$$ | $$2r\\sin\\theta$$ | $$6r\\sin\\theta$$ | $$-2r\\cos\\theta$$ \n",
    "| $$r\\theta\\cos\\theta$$ | $$-\\frac{2}{r}\\sin\\theta$$ | $$0$$ | $$0$$ \n",
    "| $$r \\ln r \\sin\\theta$$ | $$\\frac{1}{r}\\sin\\theta$$ | $$\\frac{1}{r}\\sin\\theta$$ | $$-\\frac{1}{r}\\cos\\theta$$ \n",
    "| $$\\frac{1}{r}\\sin\\theta$$ | $$-\\frac{2}{r^3}\\sin\\theta$$ | $$\\frac{2}{r^3}\\sin\\theta$$ | $$\\frac{2}{r^3}\\cos\\theta$$ \n",
    "| $$r^{n+2}\\cos n\\theta$$ | $$-(n+1)(n-2)r^n \\cos n\\theta$$ | $$(n+1)(n+2)r^n \\cos n\\theta$$ | $$n(n+1)r^n \\sin n\\theta$$ \n",
    "| $$r^{-n+2}\\cos n\\theta$$ | $$-(n+2)(n-1)r^{-n} \\cos n\\theta$$ | $$(n-1)(n-2)r^{-n} \\cos n\\theta$$ | $$-n(n-1)r^{-n} \\sin n\\theta$$ \n",
    "| $$r^n\\cos n\\theta$$ | $$-n(n-1)r^{n-2} \\cos n\\theta$$ | $$n(n-1)r^{n-2} \\cos n\\theta$$ | $$n(n-1)r^{n-2} \\sin n\\theta$$ \n",
    "| $$r^{-n}\\cos n\\theta$$ | $$-n(n+1)r^{-n-2} \\cos n\\theta$$ | $$n(n+1)r^{-n-2} \\cos n\\theta$$ | $$-n(n+1)r^{-n-2} \\sin n\\theta$$ \n",
    "| $$r^{n+2}\\sin n\\theta$$ | $$-(n+1)(n-2)r^n \\sin n\\theta$$ | $$(n+1)(n+2)r^n \\sin n\\theta$$ | $$n(n+1)r^n \\cos n\\theta$$ \n",
    "| $$r^{-n+2}\\sin n\\theta$$ | $$-(n+2)(n-1)r^{-n} \\sin n\\theta$$ | $$(n-1)(n-2)r^{-n} \\sin n\\theta$$ | $$-n(n-1)r^{-n} \\cos n\\theta$$ \n",
    "| $$r^n\\sin n\\theta$$ | $$-n(n-1)r^{n-2} \\sin n\\theta$$ | $$n(n-1)r^{n-2} \\sin n\\theta$$ | $$n(n-1)r^{n-2} \\cos n\\theta$$ \n",
    "| $$r^{-n}\\sin n\\theta$$ | $$-n(n+1)r^{-n-2} \\sin n\\theta$$ | $$n(n+1)r^{-n-2} \\sin n\\theta$$ | $$-n(n+1)r^{-n-2} \\cos n\\theta$$ "
   ]
  },
  {
   "cell_type": "markdown",
   "id": "4410d6a2",
   "metadata": {},
   "source": [
    "## Stress Components\n",
    "\\begin{align}\n",
    "    & \\sigma_r = \\frac{1}{r} \\frac{\\partial \\phi}{\\partial r} + \\frac{1}{r^2} \\frac{\\partial^2\\phi}{\\partial\\theta^2} \\\\\n",
    "    & \\sigma_{\\theta} = \\frac{\\partial^2\\phi}{\\partial r^2} \\\\\n",
    "    & \\tau_{r\\theta} = -\\frac{\\partial}{\\partial r}\\left( \\frac{1}{r} \\frac{\\partial\\phi}{\\partial\\theta} \\right) \\\\\n",
    "\\end{align}"
   ]
  },
  {
   "cell_type": "markdown",
   "id": "812ff380",
   "metadata": {},
   "source": [
    "## Strain ($e$)\n",
    "\\begin{align}\n",
    "    & \\sigma_r = \\lambda (e_r + e_{\\theta}) + 2 \\mu e_r \\notag\\\\\n",
    "    & \\sigma_{\\theta} = \\lambda (e_r + e_{\\theta}) + 2 \\mu e_{\\theta} \\notag\\\\\n",
    "    & \\tau_{r\\theta} = 2 \\mu e_{r\\theta} \\notag\\\\\n",
    "\\end{align*}\n",
    "\n",
    "where\n",
    "\n",
    "\\begin{equation*}\n",
    "    \\lambda = \\frac{E\\nu}{(1 + \\nu)(1 - 2\\nu)}\n",
    "\\end{equation*}\n",
    "\n",
    "$E$ is Young's modulus, $\\nu$ is Poisson's ratio and $\\mu$ is shear modulus."
   ]
  },
  {
   "cell_type": "markdown",
   "id": "5dfb9fa7",
   "metadata": {},
   "source": [
    "## Displacement\n",
    "\\begin{align*}\n",
    "    & e_r = \\frac{\\partial u_r}{\\partial r} \\notag\\\\\n",
    "    & e_{\\theta} = \\frac{1}{r} \\left( u_r + \\frac{\\partial u_{\\theta}}{\\partial \\theta} \\right) \\notag\\\\\n",
    "    & r_{r\\theta} = \\frac{1}{2} \\left( \\frac{1}{r} \\frac{\\partial u_r}{\\partial \\theta} + \\frac{\\partial u_{\\theta}}{\\partial r} - \\frac{u_{\\theta}}{r} \\right) \\notag\\\\\n",
    "\\end{align*}"
   ]
  },
  {
   "cell_type": "markdown",
   "id": "233146a4",
   "metadata": {},
   "source": [
    "## Result\n",
    "### Normalized Hoop Stress ($\\sigma_{\\theta}$)\n",
    "<img src=\"fig/kirsch_sol/kirsch_polar.jpg\" width=400 />\n",
    "\n",
    "### Normalized Hoop Stress at the Vicinity of the Hole\n",
    "<img src=\"fig/kirsch_sol/kirsch_hoop_stress_hole.jpg\" width=600 />"
   ]
  },
  {
   "cell_type": "markdown",
   "id": "f5850fa5",
   "metadata": {},
   "source": [
    "## References:\n",
    "\n",
    "Barber, J. R. (2010), Elasticity (3rd Edition), Springer Netherlands, https://doi.org/10.1007/978-90-481-3809-8\n",
    "\n",
    "Michell, J.H. (1899), On the Direct Determination of Stress in an Elastic Solid, with application to the Theory of Plates. Proceedings of the London Mathematical Society, s1-31: 100-124. https://doi.org/10.1112/plms/s1-31.1.100\n",
    "\n",
    "Sadd, M. H. (2021),. Elasticity: Theory, Applications, and Numerics In Elasticity (Fourth Edition), Academic Press, https://doi.org/https://doi.org/10.1016/B978-0-12-815987-3.11001-1"
   ]
  }
 ],
 "metadata": {
  "kernelspec": {
   "display_name": "Python 3",
   "language": "python",
   "name": "python3"
  },
  "language_info": {
   "codemirror_mode": {
    "name": "ipython",
    "version": 3
   },
   "file_extension": ".py",
   "mimetype": "text/x-python",
   "name": "python",
   "nbconvert_exporter": "python",
   "pygments_lexer": "ipython3",
   "version": "3.8.8"
  }
 },
 "nbformat": 4,
 "nbformat_minor": 5
}
